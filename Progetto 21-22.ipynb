{
 "cells": [
  {
   "cell_type": "markdown",
   "id": "f1b655c6",
   "metadata": {},
   "source": [
    "# Progetto DATA & WEB MINING 2021/2022\n",
    "\n",
    "## Zillow Prize Data set"
   ]
  },
  {
   "cell_type": "markdown",
   "id": "93998940",
   "metadata": {},
   "source": [
    "### Importiamo tutte le librerie utili per lo studio: "
   ]
  },
  {
   "cell_type": "code",
   "execution_count": 2,
   "id": "ce44f24a",
   "metadata": {},
   "outputs": [],
   "source": [
    "import pandas as pd\n",
    "import numpy as np\n",
    "import sklearn as sl1\n",
    "from sklearn.model_selection import train_test_split\n",
    "from sklearn.tree import plot_tree\n",
    "from sklearn.tree import DecisionTreeClassifier\n",
    "from sklearn.svm import SVC\n",
    "from sklearn.metrics import accuracy_score\n",
    "from sklearn.model_selection import cross_val_score\n",
    "import matplotlib.pyplot as plt\n",
    "import seaborn as sns\n",
    "from sklearn.ensemble import RandomForestClassifier\n",
    "from sklearn.ensemble import RandomForestRegressor\n",
    "from sklearn.preprocessing import OneHotEncoder\n",
    "\n",
    "#Visualization\n",
    "import matplotlib.pyplot as plt"
   ]
  },
  {
   "cell_type": "markdown",
   "id": "7436b199",
   "metadata": {},
   "source": [
    "### Carichiamo i dati all'interno di due varibili:"
   ]
  },
  {
   "cell_type": "code",
   "execution_count": 3,
   "id": "31f76247",
   "metadata": {},
   "outputs": [
    {
     "name": "stderr",
     "output_type": "stream",
     "text": [
      "C:\\Users\\lxgas\\anaconda3\\lib\\site-packages\\IPython\\core\\interactiveshell.py:3165: DtypeWarning: Columns (22,32,34,49,55) have mixed types.Specify dtype option on import or set low_memory=False.\n",
      "  has_raised = await self.run_ast_nodes(code_ast.body, cell_name,\n"
     ]
    }
   ],
   "source": [
    "prop_data = pd.read_csv(\"properties_2016.csv\")\n",
    "train_data = pd.read_csv(\"train_2016_v2.csv\")"
   ]
  },
  {
   "cell_type": "markdown",
   "id": "410509ae",
   "metadata": {},
   "source": [
    "### Processiamo i dati"
   ]
  },
  {
   "cell_type": "markdown",
   "id": "ef95d285",
   "metadata": {},
   "source": [
    "Effettuiamo il merge delle properties e del train che ci è stato forinito per ottenere il trining dataset completo"
   ]
  },
  {
   "cell_type": "code",
   "execution_count": 4,
   "id": "09fd254a",
   "metadata": {},
   "outputs": [
    {
     "data": {
      "text/plain": "       parcelid  logerror transactiondate  airconditioningtypeid  \\\n0      11016594    0.0276      2016-01-01                    1.0   \n1      14366692   -0.1684      2016-01-01                    NaN   \n2      12098116   -0.0040      2016-01-01                    1.0   \n3      12643413    0.0218      2016-01-02                    1.0   \n4      14432541   -0.0050      2016-01-02                    NaN   \n...         ...       ...             ...                    ...   \n90270  10774160   -0.0356      2016-12-30                    1.0   \n90271  12046695    0.0070      2016-12-30                    NaN   \n90272  12995401   -0.2679      2016-12-30                    NaN   \n90273  11402105    0.0602      2016-12-30                    NaN   \n90274  12566293    0.4207      2016-12-30                    NaN   \n\n       architecturalstyletypeid  basementsqft  bathroomcnt  bedroomcnt  \\\n0                           NaN           NaN          2.0         3.0   \n1                           NaN           NaN          3.5         4.0   \n2                           NaN           NaN          3.0         2.0   \n3                           NaN           NaN          2.0         2.0   \n4                           NaN           NaN          2.5         4.0   \n...                         ...           ...          ...         ...   \n90270                       NaN           NaN          1.0         1.0   \n90271                       NaN           NaN          3.0         3.0   \n90272                       NaN           NaN          2.0         4.0   \n90273                       NaN           NaN          2.0         2.0   \n90274                       NaN           NaN          1.0         3.0   \n\n       buildingclasstypeid  buildingqualitytypeid  ...  numberofstories  \\\n0                      NaN                    4.0  ...              NaN   \n1                      NaN                    NaN  ...              NaN   \n2                      NaN                    4.0  ...              NaN   \n3                      NaN                    4.0  ...              NaN   \n4                      NaN                    NaN  ...              2.0   \n...                    ...                    ...  ...              ...   \n90270                  NaN                    4.0  ...              NaN   \n90271                  NaN                    4.0  ...              NaN   \n90272                  NaN                    7.0  ...              NaN   \n90273                  NaN                    4.0  ...              NaN   \n90274                  NaN                    7.0  ...              NaN   \n\n       fireplaceflag  structuretaxvaluedollarcnt  taxvaluedollarcnt  \\\n0                NaN                    122754.0           360170.0   \n1                NaN                    346458.0           585529.0   \n2                NaN                     61994.0           119906.0   \n3                NaN                    171518.0           244880.0   \n4                NaN                    169574.0           434551.0   \n...              ...                         ...                ...   \n90270            NaN                     43800.0           191000.0   \n90271            NaN                    117893.0           161111.0   \n90272            NaN                     22008.0            38096.0   \n90273            NaN                    132991.0           165869.0   \n90274            NaN                     66258.0           163037.0   \n\n       assessmentyear  landtaxvaluedollarcnt  taxamount  taxdelinquencyflag  \\\n0              2015.0               237416.0    6735.88                 NaN   \n1              2015.0               239071.0   10153.02                 NaN   \n2              2015.0                57912.0   11484.48                 NaN   \n3              2015.0                73362.0    3048.74                 NaN   \n4              2015.0               264977.0    5488.96                 NaN   \n...               ...                    ...        ...                 ...   \n90270          2015.0               147200.0    2495.24                 NaN   \n90271          2015.0                43218.0    1886.54                 NaN   \n90272          2015.0                16088.0    1925.70                   Y   \n90273          2015.0                32878.0    2285.57                 NaN   \n90274          2015.0                96779.0    2560.96                 NaN   \n\n       taxdelinquencyyear  censustractandblock  \n0                     NaN         6.037107e+13  \n1                     NaN                  NaN  \n2                     NaN         6.037464e+13  \n3                     NaN         6.037296e+13  \n4                     NaN         6.059042e+13  \n...                   ...                  ...  \n90270                 NaN         6.037132e+13  \n90271                 NaN         6.037301e+13  \n90272                14.0         6.037433e+13  \n90273                 NaN         6.037601e+13  \n90274                 NaN         6.037544e+13  \n\n[90275 rows x 60 columns]",
      "text/html": "<div>\n<style scoped>\n    .dataframe tbody tr th:only-of-type {\n        vertical-align: middle;\n    }\n\n    .dataframe tbody tr th {\n        vertical-align: top;\n    }\n\n    .dataframe thead th {\n        text-align: right;\n    }\n</style>\n<table border=\"1\" class=\"dataframe\">\n  <thead>\n    <tr style=\"text-align: right;\">\n      <th></th>\n      <th>parcelid</th>\n      <th>logerror</th>\n      <th>transactiondate</th>\n      <th>airconditioningtypeid</th>\n      <th>architecturalstyletypeid</th>\n      <th>basementsqft</th>\n      <th>bathroomcnt</th>\n      <th>bedroomcnt</th>\n      <th>buildingclasstypeid</th>\n      <th>buildingqualitytypeid</th>\n      <th>...</th>\n      <th>numberofstories</th>\n      <th>fireplaceflag</th>\n      <th>structuretaxvaluedollarcnt</th>\n      <th>taxvaluedollarcnt</th>\n      <th>assessmentyear</th>\n      <th>landtaxvaluedollarcnt</th>\n      <th>taxamount</th>\n      <th>taxdelinquencyflag</th>\n      <th>taxdelinquencyyear</th>\n      <th>censustractandblock</th>\n    </tr>\n  </thead>\n  <tbody>\n    <tr>\n      <th>0</th>\n      <td>11016594</td>\n      <td>0.0276</td>\n      <td>2016-01-01</td>\n      <td>1.0</td>\n      <td>NaN</td>\n      <td>NaN</td>\n      <td>2.0</td>\n      <td>3.0</td>\n      <td>NaN</td>\n      <td>4.0</td>\n      <td>...</td>\n      <td>NaN</td>\n      <td>NaN</td>\n      <td>122754.0</td>\n      <td>360170.0</td>\n      <td>2015.0</td>\n      <td>237416.0</td>\n      <td>6735.88</td>\n      <td>NaN</td>\n      <td>NaN</td>\n      <td>6.037107e+13</td>\n    </tr>\n    <tr>\n      <th>1</th>\n      <td>14366692</td>\n      <td>-0.1684</td>\n      <td>2016-01-01</td>\n      <td>NaN</td>\n      <td>NaN</td>\n      <td>NaN</td>\n      <td>3.5</td>\n      <td>4.0</td>\n      <td>NaN</td>\n      <td>NaN</td>\n      <td>...</td>\n      <td>NaN</td>\n      <td>NaN</td>\n      <td>346458.0</td>\n      <td>585529.0</td>\n      <td>2015.0</td>\n      <td>239071.0</td>\n      <td>10153.02</td>\n      <td>NaN</td>\n      <td>NaN</td>\n      <td>NaN</td>\n    </tr>\n    <tr>\n      <th>2</th>\n      <td>12098116</td>\n      <td>-0.0040</td>\n      <td>2016-01-01</td>\n      <td>1.0</td>\n      <td>NaN</td>\n      <td>NaN</td>\n      <td>3.0</td>\n      <td>2.0</td>\n      <td>NaN</td>\n      <td>4.0</td>\n      <td>...</td>\n      <td>NaN</td>\n      <td>NaN</td>\n      <td>61994.0</td>\n      <td>119906.0</td>\n      <td>2015.0</td>\n      <td>57912.0</td>\n      <td>11484.48</td>\n      <td>NaN</td>\n      <td>NaN</td>\n      <td>6.037464e+13</td>\n    </tr>\n    <tr>\n      <th>3</th>\n      <td>12643413</td>\n      <td>0.0218</td>\n      <td>2016-01-02</td>\n      <td>1.0</td>\n      <td>NaN</td>\n      <td>NaN</td>\n      <td>2.0</td>\n      <td>2.0</td>\n      <td>NaN</td>\n      <td>4.0</td>\n      <td>...</td>\n      <td>NaN</td>\n      <td>NaN</td>\n      <td>171518.0</td>\n      <td>244880.0</td>\n      <td>2015.0</td>\n      <td>73362.0</td>\n      <td>3048.74</td>\n      <td>NaN</td>\n      <td>NaN</td>\n      <td>6.037296e+13</td>\n    </tr>\n    <tr>\n      <th>4</th>\n      <td>14432541</td>\n      <td>-0.0050</td>\n      <td>2016-01-02</td>\n      <td>NaN</td>\n      <td>NaN</td>\n      <td>NaN</td>\n      <td>2.5</td>\n      <td>4.0</td>\n      <td>NaN</td>\n      <td>NaN</td>\n      <td>...</td>\n      <td>2.0</td>\n      <td>NaN</td>\n      <td>169574.0</td>\n      <td>434551.0</td>\n      <td>2015.0</td>\n      <td>264977.0</td>\n      <td>5488.96</td>\n      <td>NaN</td>\n      <td>NaN</td>\n      <td>6.059042e+13</td>\n    </tr>\n    <tr>\n      <th>...</th>\n      <td>...</td>\n      <td>...</td>\n      <td>...</td>\n      <td>...</td>\n      <td>...</td>\n      <td>...</td>\n      <td>...</td>\n      <td>...</td>\n      <td>...</td>\n      <td>...</td>\n      <td>...</td>\n      <td>...</td>\n      <td>...</td>\n      <td>...</td>\n      <td>...</td>\n      <td>...</td>\n      <td>...</td>\n      <td>...</td>\n      <td>...</td>\n      <td>...</td>\n      <td>...</td>\n    </tr>\n    <tr>\n      <th>90270</th>\n      <td>10774160</td>\n      <td>-0.0356</td>\n      <td>2016-12-30</td>\n      <td>1.0</td>\n      <td>NaN</td>\n      <td>NaN</td>\n      <td>1.0</td>\n      <td>1.0</td>\n      <td>NaN</td>\n      <td>4.0</td>\n      <td>...</td>\n      <td>NaN</td>\n      <td>NaN</td>\n      <td>43800.0</td>\n      <td>191000.0</td>\n      <td>2015.0</td>\n      <td>147200.0</td>\n      <td>2495.24</td>\n      <td>NaN</td>\n      <td>NaN</td>\n      <td>6.037132e+13</td>\n    </tr>\n    <tr>\n      <th>90271</th>\n      <td>12046695</td>\n      <td>0.0070</td>\n      <td>2016-12-30</td>\n      <td>NaN</td>\n      <td>NaN</td>\n      <td>NaN</td>\n      <td>3.0</td>\n      <td>3.0</td>\n      <td>NaN</td>\n      <td>4.0</td>\n      <td>...</td>\n      <td>NaN</td>\n      <td>NaN</td>\n      <td>117893.0</td>\n      <td>161111.0</td>\n      <td>2015.0</td>\n      <td>43218.0</td>\n      <td>1886.54</td>\n      <td>NaN</td>\n      <td>NaN</td>\n      <td>6.037301e+13</td>\n    </tr>\n    <tr>\n      <th>90272</th>\n      <td>12995401</td>\n      <td>-0.2679</td>\n      <td>2016-12-30</td>\n      <td>NaN</td>\n      <td>NaN</td>\n      <td>NaN</td>\n      <td>2.0</td>\n      <td>4.0</td>\n      <td>NaN</td>\n      <td>7.0</td>\n      <td>...</td>\n      <td>NaN</td>\n      <td>NaN</td>\n      <td>22008.0</td>\n      <td>38096.0</td>\n      <td>2015.0</td>\n      <td>16088.0</td>\n      <td>1925.70</td>\n      <td>Y</td>\n      <td>14.0</td>\n      <td>6.037433e+13</td>\n    </tr>\n    <tr>\n      <th>90273</th>\n      <td>11402105</td>\n      <td>0.0602</td>\n      <td>2016-12-30</td>\n      <td>NaN</td>\n      <td>NaN</td>\n      <td>NaN</td>\n      <td>2.0</td>\n      <td>2.0</td>\n      <td>NaN</td>\n      <td>4.0</td>\n      <td>...</td>\n      <td>NaN</td>\n      <td>NaN</td>\n      <td>132991.0</td>\n      <td>165869.0</td>\n      <td>2015.0</td>\n      <td>32878.0</td>\n      <td>2285.57</td>\n      <td>NaN</td>\n      <td>NaN</td>\n      <td>6.037601e+13</td>\n    </tr>\n    <tr>\n      <th>90274</th>\n      <td>12566293</td>\n      <td>0.4207</td>\n      <td>2016-12-30</td>\n      <td>NaN</td>\n      <td>NaN</td>\n      <td>NaN</td>\n      <td>1.0</td>\n      <td>3.0</td>\n      <td>NaN</td>\n      <td>7.0</td>\n      <td>...</td>\n      <td>NaN</td>\n      <td>NaN</td>\n      <td>66258.0</td>\n      <td>163037.0</td>\n      <td>2015.0</td>\n      <td>96779.0</td>\n      <td>2560.96</td>\n      <td>NaN</td>\n      <td>NaN</td>\n      <td>6.037544e+13</td>\n    </tr>\n  </tbody>\n</table>\n<p>90275 rows × 60 columns</p>\n</div>"
     },
     "execution_count": 4,
     "metadata": {},
     "output_type": "execute_result"
    }
   ],
   "source": [
    "#usa per resettare il df\n",
    "df_train = pd.merge(train_data,prop_data, how=\"left\", on=\"parcelid\")\n",
    "\n",
    "df_train"
   ]
  },
  {
   "cell_type": "markdown",
   "id": "30d22186",
   "metadata": {},
   "source": [
    "facciamo un check delle feature che abbiamo e dei rispettivi valori che gli sono associati "
   ]
  },
  {
   "cell_type": "code",
   "execution_count": 5,
   "id": "86af9590",
   "metadata": {},
   "outputs": [
    {
     "name": "stdout",
     "output_type": "stream",
     "text": [
      "Index(['parcelid', 'logerror', 'transactiondate', 'airconditioningtypeid',\n",
      "       'architecturalstyletypeid', 'basementsqft', 'bathroomcnt', 'bedroomcnt',\n",
      "       'buildingclasstypeid', 'buildingqualitytypeid', 'calculatedbathnbr',\n",
      "       'decktypeid', 'finishedfloor1squarefeet',\n",
      "       'calculatedfinishedsquarefeet', 'finishedsquarefeet12',\n",
      "       'finishedsquarefeet13', 'finishedsquarefeet15', 'finishedsquarefeet50',\n",
      "       'finishedsquarefeet6', 'fips', 'fireplacecnt', 'fullbathcnt',\n",
      "       'garagecarcnt', 'garagetotalsqft', 'hashottuborspa',\n",
      "       'heatingorsystemtypeid', 'latitude', 'longitude', 'lotsizesquarefeet',\n",
      "       'poolcnt', 'poolsizesum', 'pooltypeid10', 'pooltypeid2', 'pooltypeid7',\n",
      "       'propertylandusetypeid', 'rawcensustractandblock', 'regionidcity',\n",
      "       'regionidcounty', 'regionidneighborhood', 'regionidzip', 'roomcnt',\n",
      "       'storytypeid', 'threequarterbathnbr', 'typeconstructiontypeid',\n",
      "       'unitcnt', 'yardbuildingsqft17', 'yardbuildingsqft26', 'yearbuilt',\n",
      "       'numberofstories', 'fireplaceflag', 'structuretaxvaluedollarcnt',\n",
      "       'taxvaluedollarcnt', 'assessmentyear', 'landtaxvaluedollarcnt',\n",
      "       'taxamount', 'taxdelinquencyyear', 'censustractandblock'],\n",
      "      dtype='object')\n",
      "parcelid [ 10711738  10711755  10711805 ... 162960801 162960829 162960842]\n",
      "logerror [-4.605 -4.51  -3.194 ...  4.445  4.52   4.737]\n",
      "transactiondate ['2016-01-01' '2016-01-02' '2016-01-03' '2016-01-04' '2016-01-05'\n",
      " '2016-01-06' '2016-01-07' '2016-01-08' '2016-01-09' '2016-01-10'\n",
      " '2016-01-11' '2016-01-12' '2016-01-13' '2016-01-14' '2016-01-15'\n",
      " '2016-01-16' '2016-01-17' '2016-01-18' '2016-01-19' '2016-01-20'\n",
      " '2016-01-21' '2016-01-22' '2016-01-23' '2016-01-24' '2016-01-25'\n",
      " '2016-01-26' '2016-01-27' '2016-01-28' '2016-01-29' '2016-01-30'\n",
      " '2016-01-31' '2016-02-01' '2016-02-02' '2016-02-03' '2016-02-04'\n",
      " '2016-02-05' '2016-02-06' '2016-02-07' '2016-02-08' '2016-02-09'\n",
      " '2016-02-10' '2016-02-11' '2016-02-12' '2016-02-13' '2016-02-14'\n",
      " '2016-02-15' '2016-02-16' '2016-02-17' '2016-02-18' '2016-02-19'\n",
      " '2016-02-20' '2016-02-21' '2016-02-22' '2016-02-23' '2016-02-24'\n",
      " '2016-02-25' '2016-02-26' '2016-02-27' '2016-02-28' '2016-02-29'\n",
      " '2016-03-01' '2016-03-02' '2016-03-03' '2016-03-04' '2016-03-05'\n",
      " '2016-03-06' '2016-03-07' '2016-03-08' '2016-03-09' '2016-03-10'\n",
      " '2016-03-11' '2016-03-13' '2016-03-14' '2016-03-15' '2016-03-16'\n",
      " '2016-03-17' '2016-03-18' '2016-03-19' '2016-03-20' '2016-03-21'\n",
      " '2016-03-22' '2016-03-23' '2016-03-24' '2016-03-25' '2016-03-27'\n",
      " '2016-03-28' '2016-03-29' '2016-03-30' '2016-03-31' '2016-04-01'\n",
      " '2016-04-02' '2016-04-03' '2016-04-04' '2016-04-05' '2016-04-06'\n",
      " '2016-04-07' '2016-04-08' '2016-04-09' '2016-04-10' '2016-04-11'\n",
      " '2016-04-12' '2016-04-13' '2016-04-14' '2016-04-15' '2016-04-16'\n",
      " '2016-04-17' '2016-04-18' '2016-04-19' '2016-04-20' '2016-04-21'\n",
      " '2016-04-22' '2016-04-23' '2016-04-24' '2016-04-25' '2016-04-26'\n",
      " '2016-04-27' '2016-04-28' '2016-04-29' '2016-04-30' '2016-05-01'\n",
      " '2016-05-02' '2016-05-03' '2016-05-04' '2016-05-05' '2016-05-06'\n",
      " '2016-05-07' '2016-05-08' '2016-05-09' '2016-05-10' '2016-05-11'\n",
      " '2016-05-12' '2016-05-13' '2016-05-14' '2016-05-15' '2016-05-16'\n",
      " '2016-05-17' '2016-05-18' '2016-05-19' '2016-05-20' '2016-05-22'\n",
      " '2016-05-23' '2016-05-24' '2016-05-25' '2016-05-26' '2016-05-27'\n",
      " '2016-05-28' '2016-05-29' '2016-05-30' '2016-05-31' '2016-06-01'\n",
      " '2016-06-02' '2016-06-03' '2016-06-04' '2016-06-05' '2016-06-06'\n",
      " '2016-06-07' '2016-06-08' '2016-06-09' '2016-06-10' '2016-06-11'\n",
      " '2016-06-12' '2016-06-13' '2016-06-14' '2016-06-15' '2016-06-16'\n",
      " '2016-06-17' '2016-06-18' '2016-06-19' '2016-06-20' '2016-06-21'\n",
      " '2016-06-22' '2016-06-23' '2016-06-24' '2016-06-25' '2016-06-26'\n",
      " '2016-06-27' '2016-06-28' '2016-06-29' '2016-06-30' '2016-07-01'\n",
      " '2016-07-02' '2016-07-04' '2016-07-05' '2016-07-06' '2016-07-07'\n",
      " '2016-07-08' '2016-07-09' '2016-07-10' '2016-07-11' '2016-07-12'\n",
      " '2016-07-13' '2016-07-14' '2016-07-15' '2016-07-16' '2016-07-17'\n",
      " '2016-07-18' '2016-07-19' '2016-07-20' '2016-07-21' '2016-07-22'\n",
      " '2016-07-23' '2016-07-24' '2016-07-25' '2016-07-26' '2016-07-27'\n",
      " '2016-07-28' '2016-07-29' '2016-07-30' '2016-07-31' '2016-08-01'\n",
      " '2016-08-02' '2016-08-03' '2016-08-04' '2016-08-05' '2016-08-06'\n",
      " '2016-08-07' '2016-08-08' '2016-08-09' '2016-08-10' '2016-08-11'\n",
      " '2016-08-12' '2016-08-13' '2016-08-14' '2016-08-15' '2016-08-16'\n",
      " '2016-08-17' '2016-08-18' '2016-08-19' '2016-08-20' '2016-08-21'\n",
      " '2016-08-22' '2016-08-23' '2016-08-24' '2016-08-25' '2016-08-26'\n",
      " '2016-08-27' '2016-08-28' '2016-08-29' '2016-08-30' '2016-08-31'\n",
      " '2016-09-01' '2016-09-02' '2016-09-03' '2016-09-04' '2016-09-05'\n",
      " '2016-09-06' '2016-09-07' '2016-09-08' '2016-09-09' '2016-09-10'\n",
      " '2016-09-11' '2016-09-12' '2016-09-13' '2016-09-14' '2016-09-15'\n",
      " '2016-09-16' '2016-09-17' '2016-09-18' '2016-09-19' '2016-09-20'\n",
      " '2016-09-21' '2016-09-22' '2016-09-23' '2016-09-24' '2016-09-25'\n",
      " '2016-09-26' '2016-09-27' '2016-09-28' '2016-09-29' '2016-09-30'\n",
      " '2016-10-01' '2016-10-02' '2016-10-03' '2016-10-04' '2016-10-05'\n",
      " '2016-10-06' '2016-10-07' '2016-10-08' '2016-10-09' '2016-10-10'\n",
      " '2016-10-11' '2016-10-12' '2016-10-13' '2016-10-14' '2016-10-17'\n",
      " '2016-10-18' '2016-10-19' '2016-10-20' '2016-10-21' '2016-10-22'\n",
      " '2016-10-24' '2016-10-25' '2016-10-26' '2016-10-27' '2016-10-28'\n",
      " '2016-10-29' '2016-10-30' '2016-10-31' '2016-11-01' '2016-11-02'\n",
      " '2016-11-03' '2016-11-04' '2016-11-06' '2016-11-07' '2016-11-08'\n",
      " '2016-11-09' '2016-11-10' '2016-11-12' '2016-11-13' '2016-11-14'\n",
      " '2016-11-15' '2016-11-16' '2016-11-17' '2016-11-18' '2016-11-19'\n",
      " '2016-11-20' '2016-11-21' '2016-11-22' '2016-11-23' '2016-11-24'\n",
      " '2016-11-27' '2016-11-28' '2016-11-29' '2016-11-30' '2016-12-01'\n",
      " '2016-12-02' '2016-12-04' '2016-12-05' '2016-12-06' '2016-12-07'\n",
      " '2016-12-08' '2016-12-09' '2016-12-11' '2016-12-12' '2016-12-13'\n",
      " '2016-12-14' '2016-12-15' '2016-12-16' '2016-12-17' '2016-12-18'\n",
      " '2016-12-19' '2016-12-20' '2016-12-21' '2016-12-22' '2016-12-23'\n",
      " '2016-12-24' '2016-12-25' '2016-12-26' '2016-12-27' '2016-12-28'\n",
      " '2016-12-29' '2016-12-30']\n",
      "airconditioningtypeid [ 1.  3.  5. ... nan nan nan]\n",
      "architecturalstyletypeid [ 2.  3.  7. ... nan nan nan]\n",
      "basementsqft [100. 162. 168. ...  nan  nan  nan]\n",
      "bathroomcnt [ 0.   1.   1.5  2.   2.5  3.   3.5  4.   4.5  5.   5.5  6.   6.5  7.\n",
      "  7.5  8.   8.5  9.  10.  11.  12.  15.  20. ]\n",
      "bedroomcnt [ 0.  1.  2.  3.  4.  5.  6.  7.  8.  9. 10. 11. 12. 13. 14. 15. 16.]\n",
      "buildingclasstypeid [ 4. nan nan ... nan nan nan]\n",
      "buildingqualitytypeid [ 1.  4.  6. ... nan nan nan]\n",
      "calculatedbathnbr [1.  1.5 2.  ... nan nan nan]\n",
      "decktypeid [66. nan nan ... nan nan nan]\n",
      "finishedfloor1squarefeet [44. 47. 49. ... nan nan nan]\n",
      "calculatedfinishedsquarefeet [ 2. 40. 66. ... nan nan nan]\n",
      "finishedsquarefeet12 [ 2. 40. 66. ... nan nan nan]\n",
      "finishedsquarefeet13 [1056. 1152. 1248. ...   nan   nan   nan]\n",
      "finishedsquarefeet15 [560. 609. 646. ...  nan  nan  nan]\n",
      "finishedsquarefeet50 [44. 47. 49. ... nan nan nan]\n",
      "finishedsquarefeet6 [257. 300. 360. ...  nan  nan  nan]\n",
      "fips [6037. 6059. 6111.]\n",
      "fireplacecnt [ 1.  2.  3. ... nan nan nan]\n",
      "fullbathcnt [ 1.  2.  3. ... nan nan nan]\n",
      "garagecarcnt [ 0.  1.  2. ... nan nan nan]\n",
      "garagetotalsqft [  0. 126. 150. ...  nan  nan  nan]\n",
      "hashottuborspa [nan nan nan ... nan nan nan]\n",
      "heatingorsystemtypeid [ 1.  2.  6. ... nan nan nan]\n",
      "latitude [33339295. 33340045. 33340134. ... 34813287. 34813292. 34816009.]\n",
      "longitude [-1.19447865e+08 -1.19447353e+08 -1.19447010e+08 ... -1.17556200e+08\n",
      " -1.17555136e+08 -1.17554924e+08]\n",
      "lotsizesquarefeet [167. 435. 438. ...  nan  nan  nan]\n",
      "poolcnt [ 1. nan nan ... nan nan nan]\n",
      "poolsizesum [28. 40. 49. ... nan nan nan]\n",
      "pooltypeid10 [ 1. nan nan ... nan nan nan]\n",
      "pooltypeid2 [ 1. nan nan ... nan nan nan]\n",
      "pooltypeid7 [ 1. nan nan ... nan nan nan]\n",
      "propertylandusetypeid [ 31.  47. 246. 247. 248. 260. 261. 263. 264. 265. 266. 267. 269. 275.]\n",
      "rawcensustractandblock [60371011.101001 60371011.101002 60371011.101004 ... 61110091.001011\n",
      " 61110091.001012 61110091.00102 ]\n",
      "regionidcity [3491. 4406. 5465. ...   nan   nan   nan]\n",
      "regionidcounty [1286. 2061. 3101.]\n",
      "regionidneighborhood [ 6952.  7877. 11950. ...    nan    nan    nan]\n",
      "regionidzip [ 95982.  95983.  95984.  95985.  95986.  95987.  95988.  95989.  95991.\n",
      "  95992.  95993.  95994.  95995.  95996.  95997.  95998.  95999.  96000.\n",
      "  96001.  96002.  96003.  96004.  96005.  96006.  96007.  96008.  96009.\n",
      "  96010.  96012.  96013.  96014.  96015.  96016.  96017.  96018.  96019.\n",
      "  96020.  96021.  96022.  96023.  96024.  96025.  96026.  96027.  96028.\n",
      "  96029.  96030.  96034.  96037.  96038.  96039.  96040.  96042.  96043.\n",
      "  96044.  96045.  96046.  96047.  96048.  96049.  96050.  96058.  96072.\n",
      "  96083.  96086.  96087.  96088.  96090.  96091.  96092.  96095.  96097.\n",
      "  96100.  96101.  96102.  96103.  96104.  96105.  96106.  96107.  96109.\n",
      "  96110.  96111.  96113.  96116.  96117.  96119.  96120.  96121.  96122.\n",
      "  96123.  96124.  96125.  96126.  96127.  96128.  96129.  96133.  96134.\n",
      "  96135.  96136.  96137.  96148.  96149.  96150.  96151.  96152.  96159.\n",
      "  96160.  96161.  96162.  96163.  96169.  96170.  96171.  96172.  96173.\n",
      "  96174.  96180.  96181.  96183.  96185.  96186.  96190.  96192.  96193.\n",
      "  96197.  96201.  96203.  96204.  96206.  96207.  96208.  96210.  96212.\n",
      "  96213.  96215.  96216.  96217.  96218.  96220.  96221.  96222.  96225.\n",
      "  96226.  96228.  96229.  96230.  96234.  96236.  96237.  96238.  96239.\n",
      "  96240.  96241.  96242.  96244.  96245.  96246.  96247.  96265.  96267.\n",
      "  96268.  96270.  96271.  96273.  96275.  96278.  96280.  96282.  96284.\n",
      "  96289.  96291.  96292.  96293.  96294.  96295.  96296.  96320.  96321.\n",
      "  96322.  96323.  96324.  96325.  96326.  96327.  96329.  96330.  96336.\n",
      "  96337.  96338.  96339.  96341.  96342.  96346.  96349.  96351.  96352.\n",
      "  96354.  96355.  96356.  96361.  96364.  96366.  96368.  96369.  96370.\n",
      "  96371.  96373.  96374.  96375.  96377.  96378.  96379.  96383.  96384.\n",
      "  96385.  96387.  96389.  96393.  96395.  96398.  96401.  96403.  96410.\n",
      "  96411.  96412.  96414.  96415.  96420.  96424.  96426.  96433.  96434.\n",
      "  96436.  96437.  96438.  96446.  96447.  96449.  96450.  96451.  96452.\n",
      "  96464.  96465.  96467.  96469.  96473.  96474.  96475.  96478.  96479.\n",
      "  96480.  96485.  96486.  96488.  96489.  96490.  96492.  96494.  96496.\n",
      "  96497.  96500.  96505.  96506.  96507.  96508.  96510.  96513.  96514.\n",
      "  96515.  96517.  96522.  96523.  96524.  96525.  96531.  96533.  96939.\n",
      "  96940.  96941.  96943.  96946.  96947.  96948.  96951.  96952.  96954.\n",
      "  96956.  96957.  96958.  96959.  96961.  96962.  96963.  96964.  96965.\n",
      "  96966.  96967.  96969.  96971.  96973.  96974.  96975.  96978.  96979.\n",
      "  96980.  96981.  96982.  96983.  96985.  96986.  96987.  96989.  96990.\n",
      "  96993.  96995.  96996.  96998.  97001.  97003.  97004.  97005.  97006.\n",
      "  97007.  97008.  97016.  97018.  97020.  97021.  97023.  97024.  97025.\n",
      "  97026.  97027.  97035.  97037.  97039.  97040.  97041.  97043.  97047.\n",
      "  97048.  97050.  97051.  97052.  97059.  97063.  97064.  97065.  97066.\n",
      "  97067.  97068.  97078.  97079.  97081.  97083.  97084.  97089.  97091.\n",
      "  97094.  97097.  97098.  97099.  97101.  97104.  97106.  97107.  97108.\n",
      "  97109.  97111.  97113.  97116.  97118.  97119.  97298.  97316.  97317.\n",
      "  97318.  97319.  97323.  97324.  97328.  97329.  97330.  97331.  97344.\n",
      " 399675.     nan     nan     nan     nan     nan     nan     nan     nan\n",
      "     nan     nan     nan     nan     nan     nan     nan     nan     nan\n",
      "     nan     nan     nan     nan     nan     nan     nan     nan     nan\n",
      "     nan     nan     nan     nan     nan     nan     nan     nan     nan]\n",
      "roomcnt [ 0.  1.  2.  3.  4.  5.  6.  7.  8.  9. 10. 11. 12. 13. 14. 15. 18.]\n",
      "storytypeid [ 7. nan nan ... nan nan nan]\n",
      "threequarterbathnbr [ 1.  2.  3. ... nan nan nan]\n",
      "typeconstructiontypeid [ 4.  6. 13. ... nan nan nan]\n",
      "unitcnt [ 1.  2.  3. ... nan nan nan]\n",
      "yardbuildingsqft17 [25. 28. 30. ... nan nan nan]\n",
      "yardbuildingsqft26 [18. 33. 34. ... nan nan nan]\n",
      "yearbuilt [1885. 1886. 1887. 1888. 1890. 1891. 1892. 1893. 1894. 1895. 1896. 1897.\n",
      " 1898. 1899. 1900. 1901. 1902. 1903. 1904. 1905. 1906. 1907. 1908. 1909.\n",
      " 1910. 1911. 1912. 1913. 1914. 1915. 1916. 1917. 1918. 1919. 1920. 1921.\n",
      " 1922. 1923. 1924. 1925. 1926. 1927. 1928. 1929. 1930. 1931. 1932. 1933.\n",
      " 1934. 1935. 1936. 1937. 1938. 1939. 1940. 1941. 1942. 1943. 1944. 1945.\n",
      " 1946. 1947. 1948. 1949. 1950. 1951. 1952. 1953. 1954. 1955. 1956. 1957.\n",
      " 1958. 1959. 1960. 1961. 1962. 1963. 1964. 1965. 1966. 1967. 1968. 1969.\n",
      " 1970. 1971. 1972. 1973. 1974. 1975. 1976. 1977. 1978. 1979. 1980. 1981.\n",
      " 1982. 1983. 1984. 1985. 1986. 1987. 1988. 1989. 1990. 1991. 1992. 1993.\n",
      " 1994. 1995. 1996. 1997. 1998. 1999. 2000. 2001. 2002. 2003. 2004. 2005.\n",
      " 2006. 2007. 2008. 2009. 2010. 2011. 2012. 2013. 2014. 2015.   nan   nan\n",
      "   nan   nan   nan   nan   nan   nan   nan   nan   nan   nan   nan   nan\n",
      "   nan   nan   nan   nan   nan   nan   nan   nan   nan   nan   nan   nan\n",
      "   nan   nan   nan   nan   nan   nan   nan   nan   nan   nan   nan   nan\n",
      "   nan   nan   nan   nan   nan   nan   nan   nan   nan   nan   nan   nan\n",
      "   nan   nan   nan   nan   nan   nan   nan   nan   nan   nan   nan   nan\n",
      "   nan   nan   nan   nan   nan   nan   nan   nan   nan   nan   nan   nan\n",
      "   nan   nan   nan   nan   nan   nan   nan   nan   nan   nan   nan   nan\n",
      "   nan   nan   nan   nan   nan   nan   nan   nan   nan   nan   nan   nan\n",
      "   nan   nan   nan   nan   nan   nan   nan   nan   nan   nan   nan   nan\n",
      "   nan   nan   nan   nan   nan   nan   nan   nan   nan   nan   nan   nan\n",
      "   nan   nan   nan   nan   nan   nan   nan   nan   nan   nan   nan   nan\n",
      "   nan   nan   nan   nan   nan   nan   nan   nan   nan   nan   nan   nan\n",
      "   nan   nan   nan   nan   nan   nan   nan   nan   nan   nan   nan   nan\n",
      "   nan   nan   nan   nan   nan   nan   nan   nan   nan   nan   nan   nan\n",
      "   nan   nan   nan   nan   nan   nan   nan   nan   nan   nan   nan   nan\n",
      "   nan   nan   nan   nan   nan   nan   nan   nan   nan   nan   nan   nan\n",
      "   nan   nan   nan   nan   nan   nan   nan   nan   nan   nan   nan   nan\n",
      "   nan   nan   nan   nan   nan   nan   nan   nan   nan   nan   nan   nan\n",
      "   nan   nan   nan   nan   nan   nan   nan   nan   nan   nan   nan   nan\n",
      "   nan   nan   nan   nan   nan   nan   nan   nan   nan   nan   nan   nan\n",
      "   nan   nan   nan   nan   nan   nan   nan   nan   nan   nan   nan   nan\n",
      "   nan   nan   nan   nan   nan   nan   nan   nan   nan   nan   nan   nan\n",
      "   nan   nan   nan   nan   nan   nan   nan   nan   nan   nan   nan   nan\n",
      "   nan   nan   nan   nan   nan   nan   nan   nan   nan   nan   nan   nan\n",
      "   nan   nan   nan   nan   nan   nan   nan   nan   nan   nan   nan   nan\n",
      "   nan   nan   nan   nan   nan   nan   nan   nan   nan   nan   nan   nan\n",
      "   nan   nan   nan   nan   nan   nan   nan   nan   nan   nan   nan   nan\n",
      "   nan   nan   nan   nan   nan   nan   nan   nan   nan   nan   nan   nan\n",
      "   nan   nan   nan   nan   nan   nan   nan   nan   nan   nan   nan   nan\n",
      "   nan   nan   nan   nan   nan   nan   nan   nan   nan   nan   nan   nan\n",
      "   nan   nan   nan   nan   nan   nan   nan   nan   nan   nan   nan   nan\n",
      "   nan   nan   nan   nan   nan   nan   nan   nan   nan   nan   nan   nan\n",
      "   nan   nan   nan   nan   nan   nan   nan   nan   nan   nan   nan   nan\n",
      "   nan   nan   nan   nan   nan   nan   nan   nan   nan   nan   nan   nan\n",
      "   nan   nan   nan   nan   nan   nan   nan   nan   nan   nan   nan   nan\n",
      "   nan   nan   nan   nan   nan   nan   nan   nan   nan   nan   nan   nan\n",
      "   nan   nan   nan   nan   nan   nan   nan   nan   nan   nan   nan   nan\n",
      "   nan   nan   nan   nan   nan   nan   nan   nan   nan   nan   nan   nan\n",
      "   nan   nan   nan   nan   nan   nan   nan   nan   nan   nan   nan   nan\n",
      "   nan   nan   nan   nan   nan   nan   nan   nan   nan   nan   nan   nan\n",
      "   nan   nan   nan   nan   nan   nan   nan   nan   nan   nan   nan   nan\n",
      "   nan   nan   nan   nan   nan   nan   nan   nan   nan   nan   nan   nan\n",
      "   nan   nan   nan   nan   nan   nan   nan   nan   nan   nan   nan   nan\n",
      "   nan   nan   nan   nan   nan   nan   nan   nan   nan   nan   nan   nan\n",
      "   nan   nan   nan   nan   nan   nan   nan   nan   nan   nan   nan   nan\n",
      "   nan   nan   nan   nan   nan   nan   nan   nan   nan   nan   nan   nan\n",
      "   nan   nan   nan   nan   nan   nan   nan   nan   nan   nan   nan   nan\n",
      "   nan   nan   nan   nan   nan   nan   nan   nan   nan   nan   nan   nan\n",
      "   nan   nan   nan   nan   nan   nan   nan   nan   nan   nan   nan   nan\n",
      "   nan   nan   nan   nan   nan   nan   nan   nan   nan   nan   nan   nan\n",
      "   nan   nan   nan   nan   nan   nan   nan   nan   nan   nan   nan   nan\n",
      "   nan   nan   nan   nan   nan   nan   nan   nan   nan   nan   nan   nan\n",
      "   nan   nan   nan   nan   nan   nan   nan   nan   nan   nan   nan   nan\n",
      "   nan   nan   nan   nan   nan   nan   nan   nan   nan   nan   nan   nan\n",
      "   nan   nan   nan   nan   nan   nan   nan   nan   nan   nan   nan   nan\n",
      "   nan   nan   nan   nan   nan   nan   nan   nan   nan   nan   nan   nan\n",
      "   nan   nan   nan   nan   nan   nan   nan   nan   nan   nan   nan   nan\n",
      "   nan   nan   nan   nan   nan   nan   nan   nan   nan   nan   nan   nan\n",
      "   nan   nan   nan   nan   nan   nan   nan   nan   nan   nan   nan   nan\n",
      "   nan   nan   nan   nan   nan   nan   nan   nan   nan   nan   nan   nan\n",
      "   nan   nan   nan   nan   nan   nan   nan   nan   nan   nan   nan   nan\n",
      "   nan   nan   nan   nan   nan   nan   nan   nan   nan   nan   nan   nan\n",
      "   nan   nan   nan   nan   nan   nan   nan   nan   nan   nan]\n",
      "numberofstories [ 1.  2.  3. ... nan nan nan]\n",
      "fireplaceflag [nan nan nan ... nan nan nan]\n",
      "structuretaxvaluedollarcnt [100. 101. 104. ...  nan  nan  nan]\n",
      "taxvaluedollarcnt [2.200e+01 1.044e+03 1.928e+03 ... 2.650e+07 2.775e+07       nan]\n",
      "assessmentyear [2015.]\n",
      "landtaxvaluedollarcnt [2.20000e+01 2.78000e+02 3.70000e+02 ... 1.78019e+07 2.45000e+07\n",
      "         nan]\n",
      "taxamount [49.08 51.4  64.   ...   nan   nan   nan]\n",
      "taxdelinquencyyear [ 6.  7.  8. ... nan nan nan]\n",
      "censustractandblock [6.03710111e+13 6.03710111e+13 6.03710111e+13 ...            nan\n",
      "            nan            nan]\n"
     ]
    }
   ],
   "source": [
    "#print(df_train.iloc[:,50:58])\n",
    "df_train = df_train.drop(['propertyzoningdesc', 'propertycountylandusecode','taxdelinquencyflag'], axis=1)\n",
    "num_inst, num_features = df_train.shape\n",
    "\n",
    "print(df_train.columns)\n",
    "\n",
    "for f in range(num_features):\n",
    "    print (df_train.columns[f], np.unique(df_train.iloc[:,f]))"
   ]
  },
  {
   "cell_type": "markdown",
   "id": "19385783",
   "metadata": {},
   "source": [
    "# "
   ]
  },
  {
   "cell_type": "markdown",
   "id": "08a8c908",
   "metadata": {},
   "source": [
    "Feature nuove per gestire la data di vendita"
   ]
  },
  {
   "cell_type": "code",
   "execution_count": 6,
   "id": "4289221e",
   "metadata": {},
   "outputs": [
    {
     "data": {
      "text/plain": "       parcelid  logerror  airconditioningtypeid  architecturalstyletypeid  \\\n0      11016594    0.0276                    1.0                       NaN   \n1      14366692   -0.1684                    NaN                       NaN   \n2      12098116   -0.0040                    1.0                       NaN   \n3      12643413    0.0218                    1.0                       NaN   \n4      14432541   -0.0050                    NaN                       NaN   \n...         ...       ...                    ...                       ...   \n90270  10774160   -0.0356                    1.0                       NaN   \n90271  12046695    0.0070                    NaN                       NaN   \n90272  12995401   -0.2679                    NaN                       NaN   \n90273  11402105    0.0602                    NaN                       NaN   \n90274  12566293    0.4207                    NaN                       NaN   \n\n       basementsqft  bathroomcnt  bedroomcnt  buildingclasstypeid  \\\n0               NaN          2.0         3.0                  NaN   \n1               NaN          3.5         4.0                  NaN   \n2               NaN          3.0         2.0                  NaN   \n3               NaN          2.0         2.0                  NaN   \n4               NaN          2.5         4.0                  NaN   \n...             ...          ...         ...                  ...   \n90270           NaN          1.0         1.0                  NaN   \n90271           NaN          3.0         3.0                  NaN   \n90272           NaN          2.0         4.0                  NaN   \n90273           NaN          2.0         2.0                  NaN   \n90274           NaN          1.0         3.0                  NaN   \n\n       buildingqualitytypeid  calculatedbathnbr  ...  \\\n0                        4.0                2.0  ...   \n1                        NaN                3.5  ...   \n2                        4.0                3.0  ...   \n3                        4.0                2.0  ...   \n4                        NaN                2.5  ...   \n...                      ...                ...  ...   \n90270                    4.0                1.0  ...   \n90271                    4.0                3.0  ...   \n90272                    7.0                2.0  ...   \n90273                    4.0                2.0  ...   \n90274                    7.0                1.0  ...   \n\n       structuretaxvaluedollarcnt  taxvaluedollarcnt  assessmentyear  \\\n0                        122754.0           360170.0          2015.0   \n1                        346458.0           585529.0          2015.0   \n2                         61994.0           119906.0          2015.0   \n3                        171518.0           244880.0          2015.0   \n4                        169574.0           434551.0          2015.0   \n...                           ...                ...             ...   \n90270                     43800.0           191000.0          2015.0   \n90271                    117893.0           161111.0          2015.0   \n90272                     22008.0            38096.0          2015.0   \n90273                    132991.0           165869.0          2015.0   \n90274                     66258.0           163037.0          2015.0   \n\n       landtaxvaluedollarcnt  taxamount  taxdelinquencyyear  \\\n0                   237416.0    6735.88                 NaN   \n1                   239071.0   10153.02                 NaN   \n2                    57912.0   11484.48                 NaN   \n3                    73362.0    3048.74                 NaN   \n4                   264977.0    5488.96                 NaN   \n...                      ...        ...                 ...   \n90270               147200.0    2495.24                 NaN   \n90271                43218.0    1886.54                 NaN   \n90272                16088.0    1925.70                14.0   \n90273                32878.0    2285.57                 NaN   \n90274                96779.0    2560.96                 NaN   \n\n       censustractandblock  month_buyed  day_buyed     eta  \n0             6.037107e+13            1          1   685.0  \n1                      NaN            1          1    25.0  \n2             6.037464e+13            1          1   913.0  \n3             6.037296e+13            1          2   349.0  \n4             6.059042e+13            1          2   421.0  \n...                    ...          ...        ...     ...  \n90270         6.037132e+13           12         30   456.0  \n90271         6.037301e+13           12         30   624.0  \n90272         6.037433e+13           12         30  1116.0  \n90273         6.037601e+13           12         30   432.0  \n90274         6.037544e+13           12         30   840.0  \n\n[90275 rows x 59 columns]",
      "text/html": "<div>\n<style scoped>\n    .dataframe tbody tr th:only-of-type {\n        vertical-align: middle;\n    }\n\n    .dataframe tbody tr th {\n        vertical-align: top;\n    }\n\n    .dataframe thead th {\n        text-align: right;\n    }\n</style>\n<table border=\"1\" class=\"dataframe\">\n  <thead>\n    <tr style=\"text-align: right;\">\n      <th></th>\n      <th>parcelid</th>\n      <th>logerror</th>\n      <th>airconditioningtypeid</th>\n      <th>architecturalstyletypeid</th>\n      <th>basementsqft</th>\n      <th>bathroomcnt</th>\n      <th>bedroomcnt</th>\n      <th>buildingclasstypeid</th>\n      <th>buildingqualitytypeid</th>\n      <th>calculatedbathnbr</th>\n      <th>...</th>\n      <th>structuretaxvaluedollarcnt</th>\n      <th>taxvaluedollarcnt</th>\n      <th>assessmentyear</th>\n      <th>landtaxvaluedollarcnt</th>\n      <th>taxamount</th>\n      <th>taxdelinquencyyear</th>\n      <th>censustractandblock</th>\n      <th>month_buyed</th>\n      <th>day_buyed</th>\n      <th>eta</th>\n    </tr>\n  </thead>\n  <tbody>\n    <tr>\n      <th>0</th>\n      <td>11016594</td>\n      <td>0.0276</td>\n      <td>1.0</td>\n      <td>NaN</td>\n      <td>NaN</td>\n      <td>2.0</td>\n      <td>3.0</td>\n      <td>NaN</td>\n      <td>4.0</td>\n      <td>2.0</td>\n      <td>...</td>\n      <td>122754.0</td>\n      <td>360170.0</td>\n      <td>2015.0</td>\n      <td>237416.0</td>\n      <td>6735.88</td>\n      <td>NaN</td>\n      <td>6.037107e+13</td>\n      <td>1</td>\n      <td>1</td>\n      <td>685.0</td>\n    </tr>\n    <tr>\n      <th>1</th>\n      <td>14366692</td>\n      <td>-0.1684</td>\n      <td>NaN</td>\n      <td>NaN</td>\n      <td>NaN</td>\n      <td>3.5</td>\n      <td>4.0</td>\n      <td>NaN</td>\n      <td>NaN</td>\n      <td>3.5</td>\n      <td>...</td>\n      <td>346458.0</td>\n      <td>585529.0</td>\n      <td>2015.0</td>\n      <td>239071.0</td>\n      <td>10153.02</td>\n      <td>NaN</td>\n      <td>NaN</td>\n      <td>1</td>\n      <td>1</td>\n      <td>25.0</td>\n    </tr>\n    <tr>\n      <th>2</th>\n      <td>12098116</td>\n      <td>-0.0040</td>\n      <td>1.0</td>\n      <td>NaN</td>\n      <td>NaN</td>\n      <td>3.0</td>\n      <td>2.0</td>\n      <td>NaN</td>\n      <td>4.0</td>\n      <td>3.0</td>\n      <td>...</td>\n      <td>61994.0</td>\n      <td>119906.0</td>\n      <td>2015.0</td>\n      <td>57912.0</td>\n      <td>11484.48</td>\n      <td>NaN</td>\n      <td>6.037464e+13</td>\n      <td>1</td>\n      <td>1</td>\n      <td>913.0</td>\n    </tr>\n    <tr>\n      <th>3</th>\n      <td>12643413</td>\n      <td>0.0218</td>\n      <td>1.0</td>\n      <td>NaN</td>\n      <td>NaN</td>\n      <td>2.0</td>\n      <td>2.0</td>\n      <td>NaN</td>\n      <td>4.0</td>\n      <td>2.0</td>\n      <td>...</td>\n      <td>171518.0</td>\n      <td>244880.0</td>\n      <td>2015.0</td>\n      <td>73362.0</td>\n      <td>3048.74</td>\n      <td>NaN</td>\n      <td>6.037296e+13</td>\n      <td>1</td>\n      <td>2</td>\n      <td>349.0</td>\n    </tr>\n    <tr>\n      <th>4</th>\n      <td>14432541</td>\n      <td>-0.0050</td>\n      <td>NaN</td>\n      <td>NaN</td>\n      <td>NaN</td>\n      <td>2.5</td>\n      <td>4.0</td>\n      <td>NaN</td>\n      <td>NaN</td>\n      <td>2.5</td>\n      <td>...</td>\n      <td>169574.0</td>\n      <td>434551.0</td>\n      <td>2015.0</td>\n      <td>264977.0</td>\n      <td>5488.96</td>\n      <td>NaN</td>\n      <td>6.059042e+13</td>\n      <td>1</td>\n      <td>2</td>\n      <td>421.0</td>\n    </tr>\n    <tr>\n      <th>...</th>\n      <td>...</td>\n      <td>...</td>\n      <td>...</td>\n      <td>...</td>\n      <td>...</td>\n      <td>...</td>\n      <td>...</td>\n      <td>...</td>\n      <td>...</td>\n      <td>...</td>\n      <td>...</td>\n      <td>...</td>\n      <td>...</td>\n      <td>...</td>\n      <td>...</td>\n      <td>...</td>\n      <td>...</td>\n      <td>...</td>\n      <td>...</td>\n      <td>...</td>\n      <td>...</td>\n    </tr>\n    <tr>\n      <th>90270</th>\n      <td>10774160</td>\n      <td>-0.0356</td>\n      <td>1.0</td>\n      <td>NaN</td>\n      <td>NaN</td>\n      <td>1.0</td>\n      <td>1.0</td>\n      <td>NaN</td>\n      <td>4.0</td>\n      <td>1.0</td>\n      <td>...</td>\n      <td>43800.0</td>\n      <td>191000.0</td>\n      <td>2015.0</td>\n      <td>147200.0</td>\n      <td>2495.24</td>\n      <td>NaN</td>\n      <td>6.037132e+13</td>\n      <td>12</td>\n      <td>30</td>\n      <td>456.0</td>\n    </tr>\n    <tr>\n      <th>90271</th>\n      <td>12046695</td>\n      <td>0.0070</td>\n      <td>NaN</td>\n      <td>NaN</td>\n      <td>NaN</td>\n      <td>3.0</td>\n      <td>3.0</td>\n      <td>NaN</td>\n      <td>4.0</td>\n      <td>3.0</td>\n      <td>...</td>\n      <td>117893.0</td>\n      <td>161111.0</td>\n      <td>2015.0</td>\n      <td>43218.0</td>\n      <td>1886.54</td>\n      <td>NaN</td>\n      <td>6.037301e+13</td>\n      <td>12</td>\n      <td>30</td>\n      <td>624.0</td>\n    </tr>\n    <tr>\n      <th>90272</th>\n      <td>12995401</td>\n      <td>-0.2679</td>\n      <td>NaN</td>\n      <td>NaN</td>\n      <td>NaN</td>\n      <td>2.0</td>\n      <td>4.0</td>\n      <td>NaN</td>\n      <td>7.0</td>\n      <td>2.0</td>\n      <td>...</td>\n      <td>22008.0</td>\n      <td>38096.0</td>\n      <td>2015.0</td>\n      <td>16088.0</td>\n      <td>1925.70</td>\n      <td>14.0</td>\n      <td>6.037433e+13</td>\n      <td>12</td>\n      <td>30</td>\n      <td>1116.0</td>\n    </tr>\n    <tr>\n      <th>90273</th>\n      <td>11402105</td>\n      <td>0.0602</td>\n      <td>NaN</td>\n      <td>NaN</td>\n      <td>NaN</td>\n      <td>2.0</td>\n      <td>2.0</td>\n      <td>NaN</td>\n      <td>4.0</td>\n      <td>2.0</td>\n      <td>...</td>\n      <td>132991.0</td>\n      <td>165869.0</td>\n      <td>2015.0</td>\n      <td>32878.0</td>\n      <td>2285.57</td>\n      <td>NaN</td>\n      <td>6.037601e+13</td>\n      <td>12</td>\n      <td>30</td>\n      <td>432.0</td>\n    </tr>\n    <tr>\n      <th>90274</th>\n      <td>12566293</td>\n      <td>0.4207</td>\n      <td>NaN</td>\n      <td>NaN</td>\n      <td>NaN</td>\n      <td>1.0</td>\n      <td>3.0</td>\n      <td>NaN</td>\n      <td>7.0</td>\n      <td>1.0</td>\n      <td>...</td>\n      <td>66258.0</td>\n      <td>163037.0</td>\n      <td>2015.0</td>\n      <td>96779.0</td>\n      <td>2560.96</td>\n      <td>NaN</td>\n      <td>6.037544e+13</td>\n      <td>12</td>\n      <td>30</td>\n      <td>840.0</td>\n    </tr>\n  </tbody>\n</table>\n<p>90275 rows × 59 columns</p>\n</div>"
     },
     "execution_count": 6,
     "metadata": {},
     "output_type": "execute_result"
    }
   ],
   "source": [
    "# metodo con mese acquisto e tempo da età ad acquisto\n",
    "def add_new_buyed_eta_features(df):\n",
    "    df['transactiondate'] = pd.to_datetime(df.transactiondate, format='%Y-%m-%d')\n",
    "    df['month_buyed'] = df['transactiondate'].dt.month\n",
    "    df['day_buyed'] = df['transactiondate'].dt.day\n",
    "    df['eta'] = (df['transactiondate'].dt.month +  ((df['transactiondate'].dt.year - df['yearbuilt'] ) * 12))\n",
    "    df = df.drop(['transactiondate'], axis = 1)\n",
    "    return df\n",
    "\n",
    "df_train = add_new_buyed_eta_features(df_train)\n",
    "\n",
    "df_train"
   ]
  },
  {
   "cell_type": "code",
   "execution_count": 7,
   "id": "1f7b33a0",
   "metadata": {},
   "outputs": [
    {
     "name": "stderr",
     "output_type": "stream",
     "text": [
      "C:\\Users\\lxgas\\anaconda3\\lib\\site-packages\\seaborn\\_decorators.py:36: FutureWarning: Pass the following variables as keyword args: x, y. From version 0.12, the only valid positional argument will be `data`, and passing other arguments without an explicit keyword will result in an error or misinterpretation.\n",
      "  warnings.warn(\n"
     ]
    },
    {
     "data": {
      "text/plain": "<Figure size 864x432 with 1 Axes>",
      "image/png": "[encoded data removed]"
     },
     "metadata": {
      "needs_background": "light"
     },
     "output_type": "display_data"
    }
   ],
   "source": [
    "def plot_transaction_months(df):\n",
    "    index_months = df['month_buyed'].value_counts().index\n",
    "    unique_months = df['month_buyed'].value_counts().values\n",
    "\n",
    "    plt.figure(figsize=(12, 6))\n",
    "    sns.barplot(index_months, unique_months, alpha=0.8)\n",
    "    plt.xlabel('Mese')\n",
    "    plt.ylabel('# transazioni')\n",
    "    plt.show()\n",
    "    \n",
    "plot_transaction_months(df_train)"
   ]
  },
  {
   "cell_type": "code",
   "execution_count": 8,
   "id": "417d312f",
   "metadata": {},
   "outputs": [
    {
     "name": "stderr",
     "output_type": "stream",
     "text": [
      "<ipython-input-8-f7e6eeae0753>:8: SettingWithCopyWarning: \n",
      "A value is trying to be set on a copy of a slice from a DataFrame\n",
      "\n",
      "See the caveats in the documentation: https://pandas.pydata.org/pandas-docs/stable/user_guide/indexing.html#returning-a-view-versus-a-copy\n",
      "  new_df['pid_count'][i] = temp.loc[val]\n"
     ]
    }
   ],
   "source": [
    "#feature che conta quante volte compare uno stesso parcelid\n",
    "def add_pidCount_feature(df):\n",
    "    temp = df['parcelid'].value_counts()\n",
    "    new_df = df.copy()\n",
    "    new_df['pid_count'] = 0\n",
    "    i=0\n",
    "    for val in df['parcelid'] :\n",
    "        new_df['pid_count'][i] = temp.loc[val]\n",
    "        i+=1\n",
    "    return new_df\n",
    "\n",
    "df_train = add_pidCount_feature(df_train)"
   ]
  },
  {
   "cell_type": "markdown",
   "id": "51f0727e",
   "metadata": {},
   "source": [
    "Analizziamo i missing value presenti, così da poter eliminare eventualmente alcune feature che ne presentano molti"
   ]
  },
  {
   "cell_type": "code",
   "execution_count": 9,
   "id": "a0badc2c",
   "metadata": {
    "scrolled": false
   },
   "outputs": [
    {
     "name": "stdout",
     "output_type": "stream",
     "text": [
      "Il tuo dataframe ha 60 colonne.\n",
      "Ci sono 45 colonne con dei missing values.\n",
      "                              Missing Values  % dei Valori Totali\n",
      "buildingclasstypeid                    90259                100.0\n",
      "finishedsquarefeet13                   90242                100.0\n",
      "basementsqft                           90232                100.0\n",
      "storytypeid                            90232                100.0\n",
      "yardbuildingsqft26                     90180                 99.9\n",
      "fireplaceflag                          90053                 99.8\n",
      "architecturalstyletypeid               90014                 99.7\n",
      "typeconstructiontypeid                 89976                 99.7\n",
      "finishedsquarefeet6                    89854                 99.5\n",
      "decktypeid                             89617                 99.3\n",
      "poolsizesum                            89306                 98.9\n",
      "pooltypeid10                           89114                 98.7\n",
      "pooltypeid2                            89071                 98.7\n",
      "taxdelinquencyyear                     88492                 98.0\n",
      "hashottuborspa                         87910                 97.4\n",
      "yardbuildingsqft17                     87629                 97.1\n",
      "finishedsquarefeet15                   86711                 96.1\n",
      "finishedfloor1squarefeet               83419                 92.4\n",
      "finishedsquarefeet50                   83419                 92.4\n",
      "fireplacecnt                           80668                 89.4\n",
      "threequarterbathnbr                    78266                 86.7\n",
      "pooltypeid7                            73578                 81.5\n",
      "poolcnt                                72374                 80.2\n",
      "numberofstories                        69705                 77.2\n",
      "airconditioningtypeid                  61494                 68.1\n",
      "garagetotalsqft                        60338                 66.8\n",
      "garagecarcnt                           60338                 66.8\n",
      "regionidneighborhood                   54263                 60.1\n",
      "heatingorsystemtypeid                  34195                 37.9\n",
      "buildingqualitytypeid                  32911                 36.5\n",
      "unitcnt                                31922                 35.4\n",
      "lotsizesquarefeet                      10150                 11.2\n",
      "finishedsquarefeet12                    4679                  5.2\n",
      "regionidcity                            1803                  2.0\n",
      "calculatedbathnbr                       1182                  1.3\n",
      "fullbathcnt                             1182                  1.3\n",
      "yearbuilt                                756                  0.8\n",
      "eta                                      756                  0.8\n",
      "calculatedfinishedsquarefeet             661                  0.7\n",
      "censustractandblock                      605                  0.7\n",
      "structuretaxvaluedollarcnt               380                  0.4\n",
      "regionidzip                               35                  0.0\n",
      "taxamount                                  6                  0.0\n",
      "taxvaluedollarcnt                          1                  0.0\n",
      "landtaxvaluedollarcnt                      1                  0.0\n"
     ]
    }
   ],
   "source": [
    "def missing_values_table(df):\n",
    "        mis_val = df.isnull().sum()\n",
    "        mis_val_percent = 100 * df.isnull().sum() / len(df)\n",
    "        mis_val_table = pd.concat([mis_val, mis_val_percent], axis=1)\n",
    "        mis_val_table_ren_columns = mis_val_table.rename(\n",
    "        columns = {0 : 'Missing Values', 1 : '% dei Valori Totali'})\n",
    "        mis_val_table_ren_columns = mis_val_table_ren_columns[\n",
    "            mis_val_table_ren_columns.iloc[:,1] != 0].sort_values(\n",
    "        '% dei Valori Totali', ascending=False).round(1)\n",
    "        print (\"Il tuo dataframe ha \" + str(df.shape[1]) + \" colonne.\\n\"      \n",
    "            \"Ci sono \" + str(mis_val_table_ren_columns.shape[0]) +\n",
    "              \" colonne con dei missing values.\")\n",
    "        return mis_val_table_ren_columns\n",
    "    \n",
    "print(missing_values_table(df_train))"
   ]
  },
  {
   "cell_type": "markdown",
   "id": "8febd96d",
   "metadata": {},
   "source": [
    "Rimuoviamo le feature che presentano troppi missing value e andiamo a testare invece l'importanza riempiendo temporaneamente con la media le numerical feature e con la mediana le categorical, così da avere un idea di cosa può essere utile da gestire con cura e cosa invece possiamo rimuovere "
   ]
  },
  {
   "cell_type": "code",
   "execution_count": 10,
   "id": "abce1b25",
   "metadata": {},
   "outputs": [],
   "source": [
    "#droppiamo le feature con troppi missing, alcune le teniamo per dopo\n",
    "df_train = df_train.drop(['buildingclasstypeid','finishedsquarefeet13','basementsqft','storytypeid','yardbuildingsqft26','fireplaceflag','architecturalstyletypeid','typeconstructiontypeid','finishedsquarefeet6'],axis=1)"
   ]
  },
  {
   "cell_type": "code",
   "execution_count": 11,
   "id": "3693698f",
   "metadata": {},
   "outputs": [
    {
     "name": "stdout",
     "output_type": "stream",
     "text": [
      "numercial f: Index(['parcelid', 'logerror', 'airconditioningtypeid',\n",
      "       'buildingqualitytypeid', 'calculatedbathnbr', 'decktypeid',\n",
      "       'finishedfloor1squarefeet', 'calculatedfinishedsquarefeet',\n",
      "       'finishedsquarefeet12', 'finishedsquarefeet15', 'finishedsquarefeet50',\n",
      "       'fireplacecnt', 'fullbathcnt', 'garagecarcnt', 'garagetotalsqft',\n",
      "       'hashottuborspa', 'heatingorsystemtypeid', 'latitude', 'longitude',\n",
      "       'lotsizesquarefeet', 'poolcnt', 'poolsizesum', 'pooltypeid10',\n",
      "       'pooltypeid2', 'pooltypeid7', 'rawcensustractandblock', 'regionidcity',\n",
      "       'regionidneighborhood', 'regionidzip', 'threequarterbathnbr', 'unitcnt',\n",
      "       'yardbuildingsqft17', 'yearbuilt', 'numberofstories',\n",
      "       'structuretaxvaluedollarcnt', 'taxvaluedollarcnt',\n",
      "       'landtaxvaluedollarcnt', 'taxamount', 'taxdelinquencyyear',\n",
      "       'censustractandblock', 'eta'],\n",
      "      dtype='object')\n",
      "categorical f: Index(['bathroomcnt', 'bedroomcnt', 'fips', 'propertylandusetypeid',\n",
      "       'regionidcounty', 'roomcnt', 'assessmentyear', 'month_buyed',\n",
      "       'day_buyed', 'pid_count'],\n",
      "      dtype='object')\n",
      "Number of numerical features: 41\n",
      "Number of categorical features: 10\n"
     ]
    }
   ],
   "source": [
    "#controlliamo le numerical e categorical feature, ho deciso di impostare un itpotetico 50 come valore per distinguerle\n",
    "#visto l'ingente numero di valori che assumono le righe, tra l'altro molti sono degli id \n",
    "is_numerical  = np.array( [ len(np.unique(df_train[col]))>50 for col in df_train ] )\n",
    "not_numerical  = np.array( [ len(np.unique(df_train[col]))<=50 for col in df_train ] )\n",
    "numerical_idx = np.flatnonzero(is_numerical) \n",
    "categorical_idx = np.flatnonzero(not_numerical) \n",
    "\n",
    "#printiamo le numercial features vs le categorical features\n",
    "print (\"numercial f:\",df_train.columns[numerical_idx])\n",
    "print (\"categorical f:\",df_train.columns[categorical_idx])\n",
    "print (\"Number of numerical features:\", sum(is_numerical))\n",
    "print (\"Number of categorical features:\", sum(not_numerical))\n",
    "\n",
    "#trasformazione delle numercial a floats\n",
    "new_df_train = df_train[ df_train.columns[numerical_idx] ].apply(pd.to_numeric, errors='coerce')"
   ]
  },
  {
   "cell_type": "code",
   "execution_count": 12,
   "id": "e250c646",
   "metadata": {},
   "outputs": [],
   "source": [
    "#rempiamo i missung values con media \n",
    "mean_values = df_train.mean(axis=0)\n",
    "\n",
    "df_train.fillna(mean_values, inplace=True)"
   ]
  },
  {
   "cell_type": "code",
   "execution_count": 13,
   "id": "0c11041c",
   "metadata": {},
   "outputs": [
    {
     "name": "stdout",
     "output_type": "stream",
     "text": [
      "Column 0 :airconditioningtypeid\n",
      "Column 1 :bathroomcnt\n",
      "Column 2 :bedroomcnt\n",
      "Column 3 :buildingqualitytypeid\n",
      "Column 4 :calculatedbathnbr\n",
      "Column 5 :decktypeid\n",
      "Column 6 :finishedfloor1squarefeet\n",
      "Column 7 :calculatedfinishedsquarefeet\n",
      "Column 8 :finishedsquarefeet12\n",
      "Column 9 :finishedsquarefeet15\n",
      "Column 10 :finishedsquarefeet50\n",
      "Column 11 :fips\n",
      "Column 12 :fireplacecnt\n",
      "Column 13 :fullbathcnt\n",
      "Column 14 :garagecarcnt\n",
      "Column 15 :garagetotalsqft\n",
      "Column 16 :hashottuborspa\n",
      "Column 17 :heatingorsystemtypeid\n",
      "Column 18 :latitude\n",
      "Column 19 :longitude\n",
      "Column 20 :lotsizesquarefeet\n",
      "Column 21 :poolcnt\n",
      "Column 22 :poolsizesum\n",
      "Column 23 :pooltypeid10\n",
      "Column 24 :pooltypeid2\n",
      "Column 25 :pooltypeid7\n",
      "Column 26 :propertylandusetypeid\n",
      "Column 27 :rawcensustractandblock\n",
      "Column 28 :regionidcity\n",
      "Column 29 :regionidcounty\n",
      "Column 30 :regionidneighborhood\n",
      "Column 31 :regionidzip\n",
      "Column 32 :roomcnt\n",
      "Column 33 :threequarterbathnbr\n",
      "Column 34 :unitcnt\n",
      "Column 35 :yardbuildingsqft17\n",
      "Column 36 :yearbuilt\n",
      "Column 37 :numberofstories\n",
      "Column 38 :structuretaxvaluedollarcnt\n",
      "Column 39 :taxvaluedollarcnt\n",
      "Column 40 :assessmentyear\n",
      "Column 41 :landtaxvaluedollarcnt\n",
      "Column 42 :taxamount\n",
      "Column 43 :taxdelinquencyyear\n",
      "Column 44 :censustractandblock\n",
      "Column 45 :month_buyed\n",
      "Column 46 :day_buyed\n",
      "Column 47 :eta\n",
      "Column 48 :pid_count\n"
     ]
    },
    {
     "data": {
      "text/plain": "<Figure size 2160x648 with 1 Axes>",
      "image/png": "[encoded data removed]"
     },
     "metadata": {
      "needs_background": "light"
     },
     "output_type": "display_data"
    }
   ],
   "source": [
    "#feature importance usando random forest ed assegnando la media o mediana alle feature con valori NaN\n",
    "def feature_importance_random_forest(df):\n",
    "    X_train = df.copy()\n",
    "    y_train = X_train['logerror'].values\n",
    "    X_train = X_train.drop(['parcelid', 'logerror'],axis=1)\n",
    "    \n",
    "    rf = RandomForestRegressor(n_estimators=10)\n",
    "    rf.fit(X_train,y_train)\n",
    "\n",
    "    fig, ax = plt.subplots(figsize=(30,9))\n",
    "    ax.bar(range(0,X_train.shape[1]), rf.feature_importances_)\n",
    "    ax.set_title(\"Feature Importances\")\n",
    "    ax.set_xticks(range(X_train.shape[1]))\n",
    "    ax.grid();\n",
    "    \n",
    "    i=0;\n",
    "    for col in X_train.columns :\n",
    "        print('Column '+str(i)+' :'+X_train[col].name);\n",
    "        i+=1;\n",
    "    \n",
    "feature_importance_random_forest(df_train)"
   ]
  },
  {
   "cell_type": "markdown",
   "id": "e265a81c",
   "metadata": {},
   "source": [
    "Ora che abbiamo anche una visione generale dell'importanza di ogni feature, possiamo andare a rimuovere altre feature che risultano poco importanti, e altre invece le andiamo a sostiutire "
   ]
  },
  {
   "cell_type": "code",
   "execution_count": 14,
   "id": "d4d577b4",
   "metadata": {},
   "outputs": [],
   "source": [
    "#sistemiamo alcune featrue\n",
    "df_train_NoNaN = df_train.copy()\n",
    "df_train_NoNaN = df_train.fillna(0.0)\n",
    "\n",
    "#nuova feature presenza sistema riscaldamento e raffreddamento\n",
    "df_train['heating_sis'] = ((df_train_NoNaN['airconditioningtypeid'] != 0) & (df_train_NoNaN['heatingorsystemtypeid'] != 0)) * 1\n",
    "\n",
    "#decktype si o no\n",
    "df_train['decktype'] = (df_train_NoNaN['decktypeid'] != 0) * 1\n",
    "\n",
    "#beni di lusso presenti o meno\n",
    "df_train['luxury_goods'] = ((df_train_NoNaN['hashottuborspa'] != 0) | (df_train_NoNaN['poolcnt'] != 0)) * 1\n",
    "\n",
    "#c'è almeno un caminetto\n",
    "df_train['fireplace'] = (df_train_NoNaN['fireplacecnt'] != 0) * 1\n",
    "\n",
    "#facciamo one hot encoding sugli acquisti effettuati per mese \n",
    "oh = OneHotEncoder(sparse=False)\n",
    "prova = df_train['month_buyed'].values\n",
    "oh.fit(prova.reshape(-1, 1))\n",
    "encoded = oh.transform(prova.reshape(-1, 1))\n",
    "\n",
    "df_train[oh.get_feature_names()] = encoded\n",
    "\n",
    "#eliminaniomo alcune feature con poca importanza e che presentano tropi dati mancanti\n",
    "to_be_removed = ['fullbathcnt','buildingqualitytypeid','calculatedbathnbr','decktypeid','fips','garagetotalsqft','hashottuborspa','poolcnt','poolsizesum','pooltypeid10','pooltypeid2','pooltypeid7','roomcnt','threequarterbathnbr','unitcnt','yardbuildingsqft17','fireplacecnt','propertylandusetypeid','heatingorsystemtypeid','airconditioningtypeid','finishedsquarefeet50','assessmentyear','month_buyed','numberofstories']\n",
    "df_train = df_train.drop(to_be_removed,axis=1)\n",
    "\n",
    "df_train\n",
    "\n",
    "df_train.to_csv('prova.csv')"
   ]
  },
  {
   "cell_type": "code",
   "execution_count": 15,
   "id": "5c2b16f4",
   "metadata": {},
   "outputs": [],
   "source": [
    "df_train = df_train.drop(['heating_sis','decktype','luxury_goods','fireplace'],axis=1)"
   ]
  },
  {
   "cell_type": "code",
   "execution_count": 15,
   "id": "49e22ed2",
   "metadata": {},
   "outputs": [],
   "source": []
  },
  {
   "cell_type": "markdown",
   "id": "0972eeae",
   "metadata": {},
   "source": [
    "# "
   ]
  },
  {
   "cell_type": "markdown",
   "id": "3e1c17fb",
   "metadata": {},
   "source": [
    "### Divisione in Train, Validation e Test"
   ]
  },
  {
   "cell_type": "markdown",
   "id": "000f044f",
   "metadata": {},
   "source": [
    "Ora che abbiamo sistemato un pò i dati possiamo andare a fare la suddivisione in train, validation e test, per farlo utilizzeremo il K-fold"
   ]
  },
  {
   "cell_type": "code",
   "execution_count": 17,
   "id": "372e4b9e",
   "metadata": {},
   "outputs": [
    {
     "ename": "ValueError",
     "evalue": "y contains previously unseen labels: [-2.226, -1.605, -1.565, -1.532, -1.457, -1.374, -1.238, -1.231, -1.094, -0.9862, -0.9365, -0.9263, -0.9039, -0.9014, -0.8989, -0.894, -0.8916, -0.8627, -0.8463, -0.8347, -0.7875, -0.7831, -0.7298, -0.6931, -0.6812, -0.6694, -0.6636, -0.6051, -0.5709, -0.491, -0.4447, -0.4065, 0.3798, 0.4174, 0.4395, 0.4447, 0.4568, 0.465, 0.4688, 0.483, 0.5014, 0.5324, 0.5377, 0.5435, 0.5446, 0.5493, 0.5619, 0.5664, 0.5928, 0.5939, 0.6005, 0.6049, 0.6109, 0.6184, 0.6195, 0.6307, 0.6397, 0.6466, 0.6471, 0.6606, 0.7011, 0.7036, 0.708, 0.7193, 0.7246, 0.7261, 0.7271, 0.7304, 0.7552, 0.7571, 0.7641, 0.7664, 0.7706, 0.7775, 0.7857, 0.802, 0.8024, 0.8074, 0.8403, 0.8433, 0.8437, 0.8612, 0.8642, 0.8788, 0.8805, 0.8912, 0.8965, 0.8993, 0.905, 0.9107, 0.9388, 0.9689, 0.9696, 0.9858, 0.9921, 1.005, 1.006, 1.032, 1.089, 1.105, 1.122, 1.14, 1.151, 1.16, 1.169, 1.185, 1.189, 1.21, 1.223, 1.229, 1.232, 1.235, 1.251, 1.255, 1.261, 1.301, 1.306, 1.369, 1.381, 1.383, 1.469, 1.491, 1.872, 1.885, 2.004, 2.021, 2.177, 2.309, 2.349, 2.758, 2.762, 3.25, 3.436, 3.443, 4.445, 4.52]",
     "output_type": "error",
     "traceback": [
      "\u001B[1;31m---------------------------------------------------------------------------\u001B[0m",
      "\u001B[1;31mValueError\u001B[0m                                Traceback (most recent call last)",
      "\u001B[1;32m<ipython-input-17-91667b32098d>\u001B[0m in \u001B[0;36m<module>\u001B[1;34m\u001B[0m\n\u001B[0;32m     13\u001B[0m \u001B[0mlabel_enc\u001B[0m \u001B[1;33m=\u001B[0m \u001B[0mLabelEncoder\u001B[0m\u001B[1;33m(\u001B[0m\u001B[1;33m)\u001B[0m\u001B[1;33m\u001B[0m\u001B[1;33m\u001B[0m\u001B[0m\n\u001B[0;32m     14\u001B[0m \u001B[0my_train_80_enc\u001B[0m \u001B[1;33m=\u001B[0m \u001B[0mlabel_enc\u001B[0m\u001B[1;33m.\u001B[0m\u001B[0mfit_transform\u001B[0m\u001B[1;33m(\u001B[0m\u001B[0my_train_80\u001B[0m\u001B[1;33m)\u001B[0m\u001B[1;33m\u001B[0m\u001B[1;33m\u001B[0m\u001B[0m\n\u001B[1;32m---> 15\u001B[1;33m \u001B[0my_test_enc\u001B[0m   \u001B[1;33m=\u001B[0m \u001B[0mlabel_enc\u001B[0m\u001B[1;33m.\u001B[0m\u001B[0mtransform\u001B[0m\u001B[1;33m(\u001B[0m\u001B[0my_test\u001B[0m\u001B[1;33m)\u001B[0m\u001B[1;33m\u001B[0m\u001B[1;33m\u001B[0m\u001B[0m\n\u001B[0m\u001B[0;32m     16\u001B[0m \u001B[0mlabel_enc\u001B[0m\u001B[1;33m.\u001B[0m\u001B[0minverse_transform\u001B[0m\u001B[1;33m(\u001B[0m \u001B[1;33m[\u001B[0m\u001B[1;36m3\u001B[0m\u001B[1;33m,\u001B[0m\u001B[1;36m1\u001B[0m\u001B[1;33m,\u001B[0m\u001B[1;36m2\u001B[0m\u001B[1;33m,\u001B[0m\u001B[1;36m0\u001B[0m\u001B[1;33m]\u001B[0m \u001B[1;33m)\u001B[0m\u001B[1;33m\u001B[0m\u001B[1;33m\u001B[0m\u001B[0m\n\u001B[0;32m     17\u001B[0m \u001B[0mlabel_enc\u001B[0m\u001B[1;33m.\u001B[0m\u001B[0mclasses_\u001B[0m\u001B[1;33m\u001B[0m\u001B[1;33m\u001B[0m\u001B[0m\n",
      "\u001B[1;32m~\\anaconda3\\lib\\site-packages\\sklearn\\preprocessing\\_label.py\u001B[0m in \u001B[0;36mtransform\u001B[1;34m(self, y)\u001B[0m\n\u001B[0;32m    136\u001B[0m             \u001B[1;32mreturn\u001B[0m \u001B[0mnp\u001B[0m\u001B[1;33m.\u001B[0m\u001B[0marray\u001B[0m\u001B[1;33m(\u001B[0m\u001B[1;33m[\u001B[0m\u001B[1;33m]\u001B[0m\u001B[1;33m)\u001B[0m\u001B[1;33m\u001B[0m\u001B[1;33m\u001B[0m\u001B[0m\n\u001B[0;32m    137\u001B[0m \u001B[1;33m\u001B[0m\u001B[0m\n\u001B[1;32m--> 138\u001B[1;33m         \u001B[1;32mreturn\u001B[0m \u001B[0m_encode\u001B[0m\u001B[1;33m(\u001B[0m\u001B[0my\u001B[0m\u001B[1;33m,\u001B[0m \u001B[0muniques\u001B[0m\u001B[1;33m=\u001B[0m\u001B[0mself\u001B[0m\u001B[1;33m.\u001B[0m\u001B[0mclasses_\u001B[0m\u001B[1;33m)\u001B[0m\u001B[1;33m\u001B[0m\u001B[1;33m\u001B[0m\u001B[0m\n\u001B[0m\u001B[0;32m    139\u001B[0m \u001B[1;33m\u001B[0m\u001B[0m\n\u001B[0;32m    140\u001B[0m     \u001B[1;32mdef\u001B[0m \u001B[0minverse_transform\u001B[0m\u001B[1;33m(\u001B[0m\u001B[0mself\u001B[0m\u001B[1;33m,\u001B[0m \u001B[0my\u001B[0m\u001B[1;33m)\u001B[0m\u001B[1;33m:\u001B[0m\u001B[1;33m\u001B[0m\u001B[1;33m\u001B[0m\u001B[0m\n",
      "\u001B[1;32m~\\anaconda3\\lib\\site-packages\\sklearn\\utils\\_encode.py\u001B[0m in \u001B[0;36m_encode\u001B[1;34m(values, uniques, check_unknown)\u001B[0m\n\u001B[0;32m    183\u001B[0m             \u001B[0mdiff\u001B[0m \u001B[1;33m=\u001B[0m \u001B[0m_check_unknown\u001B[0m\u001B[1;33m(\u001B[0m\u001B[0mvalues\u001B[0m\u001B[1;33m,\u001B[0m \u001B[0muniques\u001B[0m\u001B[1;33m)\u001B[0m\u001B[1;33m\u001B[0m\u001B[1;33m\u001B[0m\u001B[0m\n\u001B[0;32m    184\u001B[0m             \u001B[1;32mif\u001B[0m \u001B[0mdiff\u001B[0m\u001B[1;33m:\u001B[0m\u001B[1;33m\u001B[0m\u001B[1;33m\u001B[0m\u001B[0m\n\u001B[1;32m--> 185\u001B[1;33m                 raise ValueError(f\"y contains previously unseen labels: \"\n\u001B[0m\u001B[0;32m    186\u001B[0m                                  f\"{str(diff)}\")\n\u001B[0;32m    187\u001B[0m         \u001B[1;32mreturn\u001B[0m \u001B[0mnp\u001B[0m\u001B[1;33m.\u001B[0m\u001B[0msearchsorted\u001B[0m\u001B[1;33m(\u001B[0m\u001B[0muniques\u001B[0m\u001B[1;33m,\u001B[0m \u001B[0mvalues\u001B[0m\u001B[1;33m)\u001B[0m\u001B[1;33m\u001B[0m\u001B[1;33m\u001B[0m\u001B[0m\n",
      "\u001B[1;31mValueError\u001B[0m: y contains previously unseen labels: [-2.226, -1.605, -1.565, -1.532, -1.457, -1.374, -1.238, -1.231, -1.094, -0.9862, -0.9365, -0.9263, -0.9039, -0.9014, -0.8989, -0.894, -0.8916, -0.8627, -0.8463, -0.8347, -0.7875, -0.7831, -0.7298, -0.6931, -0.6812, -0.6694, -0.6636, -0.6051, -0.5709, -0.491, -0.4447, -0.4065, 0.3798, 0.4174, 0.4395, 0.4447, 0.4568, 0.465, 0.4688, 0.483, 0.5014, 0.5324, 0.5377, 0.5435, 0.5446, 0.5493, 0.5619, 0.5664, 0.5928, 0.5939, 0.6005, 0.6049, 0.6109, 0.6184, 0.6195, 0.6307, 0.6397, 0.6466, 0.6471, 0.6606, 0.7011, 0.7036, 0.708, 0.7193, 0.7246, 0.7261, 0.7271, 0.7304, 0.7552, 0.7571, 0.7641, 0.7664, 0.7706, 0.7775, 0.7857, 0.802, 0.8024, 0.8074, 0.8403, 0.8433, 0.8437, 0.8612, 0.8642, 0.8788, 0.8805, 0.8912, 0.8965, 0.8993, 0.905, 0.9107, 0.9388, 0.9689, 0.9696, 0.9858, 0.9921, 1.005, 1.006, 1.032, 1.089, 1.105, 1.122, 1.14, 1.151, 1.16, 1.169, 1.185, 1.189, 1.21, 1.223, 1.229, 1.232, 1.235, 1.251, 1.255, 1.261, 1.301, 1.306, 1.369, 1.381, 1.383, 1.469, 1.491, 1.872, 1.885, 2.004, 2.021, 2.177, 2.309, 2.349, 2.758, 2.762, 3.25, 3.436, 3.443, 4.445, 4.52]"
     ]
    }
   ],
   "source": [
    "from sklearn.preprocessing import LabelEncoder\n",
    "\n",
    "#mettiamo la featrue logerror come y e facciamo il drop da X\n",
    "y = df_train[\"logerror\"].values\n",
    "X = df_train.copy()\n",
    "X = X.drop(columns=[\"logerror\"])\n",
    "\n",
    "#facciamo la divisiione da dare al k-fold\n",
    "X_train_80, X_test, y_train_80, y_test = train_test_split(X, y, test_size=0.20, random_state=42)\n",
    "\n",
    "X_train, X_valid, y_train, y_valid  = train_test_split(X_train_80, y_train_80, test_size=0.25, random_state=42)\n",
    "\n",
    "label_enc = LabelEncoder()\n",
    "y_train_80_enc = label_enc.fit_transform(y_train_80)\n",
    "y_test_enc   = label_enc.transform(y_test)\n",
    "label_enc.inverse_transform( [3,1,2,0] )\n",
    "label_enc.classes_\n",
    "\n",
    "accuracies = []\n",
    "\n",
    "for c in [0.001, 0.01, 0.1, 1.0, 10.0, 100.0, 1000.0]:\n",
    "    # train and predict\n",
    "    model = SVC(C=c)\n",
    "    model.fit(X_train, y_train)\n",
    "\n",
    "    scores = cross_val_score(model, X_train_80, y_train_80, \n",
    "                         cv=5, scoring='accuracy', \n",
    "                         verbose = 0)\n",
    "    \n",
    "    #print (scores)\n",
    "    valid_acc = scores.mean()\n",
    "    print (\"C: {:8.3f} - Validation Accuracy: {:.3f}\"\n",
    "           .format( c, valid_acc) )\n",
    "    \n",
    "    accuracies += [ [valid_acc, c] ]\n",
    "\n",
    "best_accuracy, best_c = max(accuracies)\n",
    "print ( \"Best C:\", best_c )\n",
    "\n",
    "# here we are using both training and validation,\n",
    "# to exploit the most data\n",
    "model = SVC(C=best_c)\n",
    "model.fit(X_train_80,y_train_80)\n",
    "\n",
    "test_acc = accuracy_score(y_true = y_test, \n",
    "                          y_pred = model.predict(X_test) )\n",
    "print (\"Test Accuracy: {:.3f}\".format(test_acc) )"
   ]
  },
  {
   "cell_type": "code",
   "execution_count": null,
   "id": "cde708fc",
   "metadata": {},
   "outputs": [],
   "source": [
    "# cross validation :\n"
   ]
  },
  {
   "cell_type": "code",
   "execution_count": null,
   "id": "f3d4d981",
   "metadata": {},
   "outputs": [],
   "source": []
  },
  {
   "cell_type": "code",
   "execution_count": null,
   "id": "b4530582",
   "metadata": {},
   "outputs": [],
   "source": []
  },
  {
   "cell_type": "code",
   "execution_count": null,
   "id": "44bd57c4",
   "metadata": {},
   "outputs": [],
   "source": []
  },
  {
   "cell_type": "code",
   "execution_count": null,
   "id": "8f1dfffb",
   "metadata": {},
   "outputs": [],
   "source": []
  },
  {
   "cell_type": "code",
   "execution_count": null,
   "id": "07157dc6",
   "metadata": {},
   "outputs": [],
   "source": []
  },
  {
   "cell_type": "code",
   "execution_count": null,
   "id": "cb9a75d1",
   "metadata": {},
   "outputs": [],
   "source": [
    "#facciamo un plot dei missing values così da avere una visione più gradevole\n",
    "def missing_plot(df):\n",
    "    missing_df = df.isnull().sum(axis=0).reset_index()\n",
    "    missing_df.columns = ['column_name', 'missing_count']\n",
    "    missing_df = missing_df.loc[missing_df['missing_count']>0]\n",
    "    missing_df = missing_df.sort_values(by='missing_count')\n",
    "\n",
    "    ind = np.arange(missing_df.shape[0])\n",
    "    width = 0.9\n",
    "    fig, ax = plt.subplots(figsize=(12,18))\n",
    "    rects = ax.barh(ind, missing_df.missing_count.values, color='blue')\n",
    "    ax.set_yticks(ind)\n",
    "    ax.set_yticklabels(missing_df.column_name.values, rotation='horizontal')\n",
    "    ax.set_xlabel(\"Count of missing values\")\n",
    "    ax.set_title(\"Number of missing values in each column\")\n",
    "    plt.show()\n",
    "    \n",
    "missing_plot(df_train)"
   ]
  },
  {
   "cell_type": "code",
   "execution_count": null,
   "id": "d6d596ed",
   "metadata": {},
   "outputs": [],
   "source": [
    "### Divisione in Train e Test"
   ]
  },
  {
   "cell_type": "markdown",
   "id": "8a28be25",
   "metadata": {},
   "source": [
    "come prima cosa importante dividiamo in train e test utilizzando il k-fold cross validation, così da assicurarci di avere una divisione del df in train e test maggiormente bilanciata"
   ]
  },
  {
   "cell_type": "code",
   "execution_count": null,
   "id": "e277bb5c",
   "metadata": {},
   "outputs": [],
   "source": [
    "from sklearn.preprocessing import LabelEncoder\n",
    "\n",
    "#mettiamo la featrue logerror come y e facciamo il drop da X\n",
    "y = df_train[\"logerror\"].values\n",
    "X = df_train.copy()\n",
    "X = X.drop(columns=[\"logerror\"])\n",
    "\n",
    "#facciamo la divisiione da dare al k-fold\n",
    "X_train_80, X_test, y_train_80, y_test = train_test_split(X, y, test_size=0.20, random_state=42)\n",
    "\n",
    "X_train, X_valid, y_train, y_valid  = train_test_split(X_train_80, y_train_80, test_size=0.25, random_state=42)\n",
    "\n",
    "label_enc = LabelEncoder()\n",
    "y_train_80_enc = label_enc.fit_transform(y_train_80)\n",
    "y_test_enc   = label_enc.transform(y_test)\n",
    "label_enc.inverse_transform( [3,1,2,0] )\n",
    "label_enc.classes_"
   ]
  },
  {
   "cell_type": "code",
   "execution_count": null,
   "id": "ea56312a",
   "metadata": {},
   "outputs": [],
   "source": [
    "def accuracies_vary_max_leaves(X_train, X_valid, X_test, y_train, y_valid, y_test,\n",
    "                              l_min=2, l_max=50, l_step=1):\n",
    "\n",
    "    accuracies = []\n",
    "\n",
    "    for max_leaves in range(l_min,l_max, l_step):\n",
    "        # train and predict\n",
    "        dt = DecisionTreeClassifier(max_leaf_nodes=max_leaves)\n",
    "        dt.fit(X_train,y_train)\n",
    "\n",
    "        # compute Accuracy\n",
    "        train_acc = accuracy_score(y_true=y_train, y_pred=dt.predict(X_train))\n",
    "        valid_acc = accuracy_score(y_true=y_valid, y_pred=dt.predict(X_valid))\n",
    "        test_acc  = accuracy_score(y_true=y_test,  y_pred=dt.predict(X_test))\n",
    "\n",
    "        accuracies += [ [max_leaves, train_acc, valid_acc, test_acc] ]\n",
    "\n",
    "    accuracies = np.array(accuracies)\n",
    "\n",
    "    fig, ax = plt.subplots()\n",
    "    ax.plot(accuracies[:,0], accuracies[:,1], \"x:\", label=\"Train\")\n",
    "    ax.plot(accuracies[:,0], accuracies[:,2], \"o-\", label=\"Valid\")\n",
    "    ax.plot(accuracies[:,0], accuracies[:,3], \"s-\", label=\"Test\")\n",
    "    ax.legend()\n",
    "    ax.grid()\n",
    "    \n",
    "    return accuracies\n",
    "\n",
    "accuracies_vary_max_leaves(X_train, X_valid, X_test, y_train, y_valid, y_test)"
   ]
  },
  {
   "cell_type": "code",
   "execution_count": null,
   "id": "95b77966",
   "metadata": {},
   "outputs": [],
   "source": [
    "from sklearn.metrics import plot_confusion_matrix\n",
    "from sklearn.metrics import confusion_matrix\n",
    "\n",
    "plot_confusion_matrix(estimator=dt, X=X_test_enc, y_true=y_test,\n",
    "                      cmap = 'Blues_r');\n",
    "\n",
    "conf_stat = confusion_matrix(y_true=y_test,  y_pred=dt.predict(X_test_enc))\n",
    "\n",
    "conf_stat"
   ]
  },
  {
   "cell_type": "code",
   "execution_count": null,
   "id": "8aec2404",
   "metadata": {},
   "outputs": [],
   "source": []
  }
 ],
 "metadata": {
  "kernelspec": {
   "display_name": "Python 3",
   "language": "python",
   "name": "python3"
  },
  "language_info": {
   "codemirror_mode": {
    "name": "ipython",
    "version": 3
   },
   "file_extension": ".py",
   "mimetype": "text/x-python",
   "name": "python",
   "nbconvert_exporter": "python",
   "pygments_lexer": "ipython3",
   "version": "3.8.8"
  }
 },
 "nbformat": 4,
 "nbformat_minor": 5
}